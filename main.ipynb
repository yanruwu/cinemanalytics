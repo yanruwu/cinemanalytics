{
 "cells": [
  {
   "cell_type": "markdown",
   "metadata": {},
   "source": [
    "## Scraping Phase"
   ]
  },
  {
   "cell_type": "code",
   "execution_count": 3,
   "metadata": {},
   "outputs": [
    {
     "data": {
      "text/plain": [
       "True"
      ]
     },
     "execution_count": 3,
     "metadata": {},
     "output_type": "execute_result"
    }
   ],
   "source": [
    "import pandas as pd\n",
    "import numpy as np\n",
    "import re\n",
    "\n",
    "import seaborn as sns\n",
    "import matplotlib.pyplot as plt\n",
    "\n",
    "from selenium import webdriver\n",
    "from selenium.webdriver.common.keys import Keys\n",
    "from selenium.webdriver.common.by import By\n",
    "from selenium.webdriver.support.ui import WebDriverWait\n",
    "from selenium.webdriver.support import expected_conditions as EC\n",
    "from tqdm import tqdm\n",
    "from concurrent.futures import ThreadPoolExecutor, as_completed\n",
    "import requests\n",
    "from bs4 import BeautifulSoup\n",
    "from time import sleep\n",
    "import os\n",
    "from dotenv import load_dotenv\n",
    "\n",
    "load_dotenv()\n"
   ]
  },
  {
   "cell_type": "code",
   "execution_count": 3,
   "metadata": {},
   "outputs": [],
   "source": [
    "mdb = os.getenv(\"moviedb_token\")\n",
    "mdb2 = os.getenv(\"moviedb_token2\")"
   ]
  },
  {
   "cell_type": "code",
   "execution_count": 6,
   "metadata": {},
   "outputs": [
    {
     "name": "stdout",
     "output_type": "stream",
     "text": [
      "{'results': [None, 'movie', 'musicVideo', 'podcastEpisode', 'podcastSeries', 'short', 'tvEpisode', 'tvMiniSeries', 'tvMovie', 'tvPilot', 'tvSeries', 'tvShort', 'tvSpecial', 'video', 'videoGame']}\n"
     ]
    }
   ],
   "source": [
    "url_types = \"https://moviesdatabase.p.rapidapi.com/titles/utils/titleTypes\"\n",
    "\n",
    "headers = {\n",
    "\t\"x-rapidapi-key\": mdb,\n",
    "\t\"x-rapidapi-host\": \"moviesdatabase.p.rapidapi.com\"\n",
    "}\n",
    "\n",
    "response_types = requests.get(url_types, headers=headers)\n",
    "\n",
    "print(response_types.json())"
   ]
  },
  {
   "cell_type": "code",
   "execution_count": 225,
   "metadata": {},
   "outputs": [],
   "source": [
    "def get_movies(types, genres, years, n_pages):\n",
    "    movies = []\n",
    "    key = mdb\n",
    "    for title_type in types:\n",
    "        print(title_type)\n",
    "        for genre in genres:\n",
    "            print(genre)\n",
    "            for year in tqdm(years):\n",
    "                for page in range(1,n_pages+1):\n",
    "                    url = \"https://moviesdatabase.p.rapidapi.com/titles\"\n",
    "                    querystring = {\"genre\":genre,\"year\":f\"{year}\",\"titleType\":title_type,\"limit\":\"50\", \"page\" : page}\n",
    "                    headers = {\n",
    "                        \"x-rapidapi-key\": key,\n",
    "                        \"x-rapidapi-host\": \"moviesdatabase.p.rapidapi.com\"\n",
    "                    }\n",
    "\n",
    "                    response = requests.get(url, headers=headers, params = querystring)\n",
    "                    if response.status_code != 200:\n",
    "                        print(\"Request limit reached, changing key...\")\n",
    "                        key = mdb2\n",
    "                        headers = {\n",
    "                        \"x-rapidapi-key\": key,\n",
    "                        \"x-rapidapi-host\": \"moviesdatabase.p.rapidapi.com\"\n",
    "                        }   \n",
    "                        response = requests.get(url, headers=headers, params = querystring)\n",
    "\n",
    "                    response = response.json()\n",
    "                    result_len = len(response[\"results\"])\n",
    "                    if response[\"page\"] == 1 or result_len == 0:\n",
    "                        print(f\"Limit page reached, page : {page}\")\n",
    "                        break\n",
    "                    movie_year = [response[\"results\"][i][\"releaseYear\"][\"year\"] for i in range(result_len)]\n",
    "                    movie_month = [response[\"results\"][i][\"releaseDate\"][\"month\"] if response[\"results\"][i][\"releaseDate\"] else None  for i in range(result_len)]\n",
    "                    movie_title = [response[\"results\"][i][\"titleText\"][\"text\"] for i in range(result_len)]\n",
    "                    movie_id = [response[\"results\"][i][\"id\"] for i in range(result_len)]\n",
    "                    \n",
    "                    movies_page_list = [(title_type,my,mm,mt,mi,genre) for my, mm, mt, mi in zip(movie_year, movie_month, movie_title, movie_id)]\n",
    "                    movies += movies_page_list\n",
    "    return movies\n"
   ]
  },
  {
   "cell_type": "code",
   "execution_count": 226,
   "metadata": {},
   "outputs": [
    {
     "name": "stdout",
     "output_type": "stream",
     "text": [
      "movie\n",
      "Drama\n"
     ]
    },
    {
     "name": "stderr",
     "output_type": "stream",
     "text": [
      "  0%|          | 0/35 [00:00<?, ?it/s]"
     ]
    },
    {
     "name": "stdout",
     "output_type": "stream",
     "text": [
      "Request limit reached, changing key...\n"
     ]
    },
    {
     "name": "stderr",
     "output_type": "stream",
     "text": [
      "100%|██████████| 35/35 [00:13<00:00,  2.51it/s]\n"
     ]
    },
    {
     "name": "stdout",
     "output_type": "stream",
     "text": [
      "Comedy\n"
     ]
    },
    {
     "name": "stderr",
     "output_type": "stream",
     "text": [
      "100%|██████████| 35/35 [00:13<00:00,  2.67it/s]\n"
     ]
    },
    {
     "name": "stdout",
     "output_type": "stream",
     "text": [
      "Action\n"
     ]
    },
    {
     "name": "stderr",
     "output_type": "stream",
     "text": [
      "100%|██████████| 35/35 [00:12<00:00,  2.83it/s]\n"
     ]
    },
    {
     "name": "stdout",
     "output_type": "stream",
     "text": [
      "Fantasy\n"
     ]
    },
    {
     "name": "stderr",
     "output_type": "stream",
     "text": [
      "100%|██████████| 35/35 [00:13<00:00,  2.65it/s]\n"
     ]
    },
    {
     "name": "stdout",
     "output_type": "stream",
     "text": [
      "Horror\n"
     ]
    },
    {
     "name": "stderr",
     "output_type": "stream",
     "text": [
      "100%|██████████| 35/35 [00:13<00:00,  2.67it/s]\n"
     ]
    },
    {
     "name": "stdout",
     "output_type": "stream",
     "text": [
      "Mystery\n"
     ]
    },
    {
     "name": "stderr",
     "output_type": "stream",
     "text": [
      "100%|██████████| 35/35 [00:12<00:00,  2.89it/s]\n"
     ]
    },
    {
     "name": "stdout",
     "output_type": "stream",
     "text": [
      "Romance\n"
     ]
    },
    {
     "name": "stderr",
     "output_type": "stream",
     "text": [
      "100%|██████████| 35/35 [00:12<00:00,  2.69it/s]\n"
     ]
    },
    {
     "name": "stdout",
     "output_type": "stream",
     "text": [
      "Thriller\n"
     ]
    },
    {
     "name": "stderr",
     "output_type": "stream",
     "text": [
      "100%|██████████| 35/35 [00:10<00:00,  3.21it/s]\n"
     ]
    },
    {
     "name": "stdout",
     "output_type": "stream",
     "text": [
      "short\n",
      "Drama\n"
     ]
    },
    {
     "name": "stderr",
     "output_type": "stream",
     "text": [
      "100%|██████████| 35/35 [00:12<00:00,  2.85it/s]\n"
     ]
    },
    {
     "name": "stdout",
     "output_type": "stream",
     "text": [
      "Comedy\n"
     ]
    },
    {
     "name": "stderr",
     "output_type": "stream",
     "text": [
      "100%|██████████| 35/35 [00:12<00:00,  2.78it/s]\n"
     ]
    },
    {
     "name": "stdout",
     "output_type": "stream",
     "text": [
      "Action\n"
     ]
    },
    {
     "name": "stderr",
     "output_type": "stream",
     "text": [
      "100%|██████████| 35/35 [00:11<00:00,  3.16it/s]\n"
     ]
    },
    {
     "name": "stdout",
     "output_type": "stream",
     "text": [
      "Fantasy\n"
     ]
    },
    {
     "name": "stderr",
     "output_type": "stream",
     "text": [
      "100%|██████████| 35/35 [00:12<00:00,  2.72it/s]\n"
     ]
    },
    {
     "name": "stdout",
     "output_type": "stream",
     "text": [
      "Horror\n"
     ]
    },
    {
     "name": "stderr",
     "output_type": "stream",
     "text": [
      "100%|██████████| 35/35 [00:11<00:00,  3.01it/s]\n"
     ]
    },
    {
     "name": "stdout",
     "output_type": "stream",
     "text": [
      "Mystery\n"
     ]
    },
    {
     "name": "stderr",
     "output_type": "stream",
     "text": [
      "100%|██████████| 35/35 [00:13<00:00,  2.66it/s]\n"
     ]
    },
    {
     "name": "stdout",
     "output_type": "stream",
     "text": [
      "Romance\n"
     ]
    },
    {
     "name": "stderr",
     "output_type": "stream",
     "text": [
      "100%|██████████| 35/35 [00:11<00:00,  3.09it/s]\n"
     ]
    },
    {
     "name": "stdout",
     "output_type": "stream",
     "text": [
      "Thriller\n"
     ]
    },
    {
     "name": "stderr",
     "output_type": "stream",
     "text": [
      "100%|██████████| 35/35 [00:12<00:00,  2.73it/s]\n"
     ]
    }
   ],
   "source": [
    "title_types = [\"movie\", \"short\"]\n",
    "genres = [\"Drama\", \"Comedy\", \"Action\", \"Fantasy\", \"Horror\", \"Mystery\", \"Romance\", \"Thriller\"]\n",
    "years = range(1990,2025)\n",
    "\n",
    "\n",
    "response = get_movies(title_types, genres, years, n_pages=1)"
   ]
  },
  {
   "cell_type": "code",
   "execution_count": 251,
   "metadata": {},
   "outputs": [],
   "source": [
    "df_response = pd.DataFrame(response, columns = [\"type\", \"year\", \"month\", \"name\", \"id\", \"genre\"])\n",
    "df_response.to_csv(\"datos/temporal_result.csv\")"
   ]
  },
  {
   "cell_type": "code",
   "execution_count": 252,
   "metadata": {},
   "outputs": [
    {
     "data": {
      "text/html": [
       "<div>\n",
       "<style scoped>\n",
       "    .dataframe tbody tr th:only-of-type {\n",
       "        vertical-align: middle;\n",
       "    }\n",
       "\n",
       "    .dataframe tbody tr th {\n",
       "        vertical-align: top;\n",
       "    }\n",
       "\n",
       "    .dataframe thead th {\n",
       "        text-align: right;\n",
       "    }\n",
       "</style>\n",
       "<table border=\"1\" class=\"dataframe\">\n",
       "  <thead>\n",
       "    <tr style=\"text-align: right;\">\n",
       "      <th></th>\n",
       "      <th>type</th>\n",
       "      <th>year</th>\n",
       "      <th>month</th>\n",
       "      <th>name</th>\n",
       "      <th>id</th>\n",
       "      <th>genre</th>\n",
       "    </tr>\n",
       "  </thead>\n",
       "  <tbody>\n",
       "    <tr>\n",
       "      <th>0</th>\n",
       "      <td>movie</td>\n",
       "      <td>1990</td>\n",
       "      <td>10.0</td>\n",
       "      <td>Jahrgang 45</td>\n",
       "      <td>tt0059325</td>\n",
       "      <td>Drama</td>\n",
       "    </tr>\n",
       "    <tr>\n",
       "      <th>1</th>\n",
       "      <td>movie</td>\n",
       "      <td>1990</td>\n",
       "      <td>10.0</td>\n",
       "      <td>Wenn du groß bist, lieber Adam</td>\n",
       "      <td>tt0059900</td>\n",
       "      <td>Drama</td>\n",
       "    </tr>\n",
       "    <tr>\n",
       "      <th>2</th>\n",
       "      <td>movie</td>\n",
       "      <td>1990</td>\n",
       "      <td>10.0</td>\n",
       "      <td>Vojtech, receny sirotek</td>\n",
       "      <td>tt0065188</td>\n",
       "      <td>Drama</td>\n",
       "    </tr>\n",
       "    <tr>\n",
       "      <th>3</th>\n",
       "      <td>movie</td>\n",
       "      <td>1990</td>\n",
       "      <td>8.0</td>\n",
       "      <td>Domo Arigato</td>\n",
       "      <td>tt0068494</td>\n",
       "      <td>Drama</td>\n",
       "    </tr>\n",
       "    <tr>\n",
       "      <th>4</th>\n",
       "      <td>movie</td>\n",
       "      <td>1990</td>\n",
       "      <td>3.0</td>\n",
       "      <td>Spy Story</td>\n",
       "      <td>tt0075259</td>\n",
       "      <td>Drama</td>\n",
       "    </tr>\n",
       "  </tbody>\n",
       "</table>\n",
       "</div>"
      ],
      "text/plain": [
       "    type  year  month                            name         id  genre\n",
       "0  movie  1990   10.0                     Jahrgang 45  tt0059325  Drama\n",
       "1  movie  1990   10.0  Wenn du groß bist, lieber Adam  tt0059900  Drama\n",
       "2  movie  1990   10.0         Vojtech, receny sirotek  tt0065188  Drama\n",
       "3  movie  1990    8.0                    Domo Arigato  tt0068494  Drama\n",
       "4  movie  1990    3.0                       Spy Story  tt0075259  Drama"
      ]
     },
     "execution_count": 252,
     "metadata": {},
     "output_type": "execute_result"
    }
   ],
   "source": [
    "df_response.head()"
   ]
  },
  {
   "cell_type": "code",
   "execution_count": 16,
   "metadata": {},
   "outputs": [],
   "source": [
    "def get_movie_info(id):\n",
    "    options = webdriver.ChromeOptions()\n",
    "    # options.add_argument(\"--headless\") \n",
    "    options.add_argument(\"--lang=en\")\n",
    "    driver = webdriver.Chrome(options = options)\n",
    "    driver.get(f\"https://www.imdb.com/title/{id}/\")\n",
    "    WebDriverWait(driver, 5).until(EC.visibility_of_element_located((By.XPATH, \"//*[@data-testid='hero-rating-bar__aggregate-rating__score']\")))\n",
    "    imdb_container = driver.find_element(By.XPATH, \"//*[@data-testid='hero-rating-bar__aggregate-rating__score']\")\n",
    "    info_container = driver.find_element(By.XPATH, '//*[@id=\"__next\"]/main/div/section[1]/section/div[3]/section/section/div[3]/div[2]/div[1]/section/div[2]/div/ul')\n",
    "    info_ele = info_container.find_elements(By.XPATH, './li')\n",
    "    staff_dict = {e.text.split('\\n')[0] :re.sub(r'(?<![A-Z\\W])(?=[A-Z])', '|', e.text.split('\\n')[1]).split(\"|\")[1:] for e in info_ele}\n",
    "    description = driver.find_element(By.XPATH, \"//*[@data-testid='plot']\").text\n",
    "    score = imdb_container.text.split()[0]\n",
    "    try:\n",
    "        duration = re.search(\"(\\d+h\\s)*\\d{2}m\", driver.find_element(By.XPATH, '//*[@id=\"__next\"]/main/div/section[1]/section/div[3]/section/section/div[2]/div[1]/ul').text).group(0)\n",
    "    except:\n",
    "        duration = None\n",
    "    movie_info = (id, score, list(staff_dict.items())[0][1], list(staff_dict.items())[1][1], duration, description)\n",
    "    driver.quit()\n",
    "    return movie_info"
   ]
  },
  {
   "cell_type": "code",
   "execution_count": 8,
   "metadata": {},
   "outputs": [],
   "source": [
    "infos = []\n",
    "for id in df_response[\"id\"].unique()[:4]:\n",
    "    movie_info = get_movie_info(id)\n",
    "    infos.append(movie_info)\n"
   ]
  },
  {
   "cell_type": "code",
   "execution_count": 9,
   "metadata": {},
   "outputs": [],
   "source": [
    "def to_minutes(text):\n",
    "    text = text.replace(\"h \", \":\").replace(\"m\", \"\")\n",
    "    splitted = text.split(\":\")\n",
    "    try:\n",
    "        return int(splitted[0])*60+int(splitted[1])\n",
    "    except:\n",
    "        return int(splitted[0])\n",
    "     "
   ]
  },
  {
   "cell_type": "code",
   "execution_count": 10,
   "metadata": {},
   "outputs": [],
   "source": [
    "df_response = pd.read_csv(\"datos/temporal_result.csv\", index_col=0)"
   ]
  },
  {
   "cell_type": "code",
   "execution_count": 11,
   "metadata": {},
   "outputs": [],
   "source": [
    "df_sample = df_response[(df_response[\"type\"] == \"movie\") & (df_response[\"genre\"] == \"Drama\")].reset_index(drop=True)"
   ]
  },
  {
   "cell_type": "code",
   "execution_count": null,
   "metadata": {},
   "outputs": [],
   "source": [
    "df_info = pd.DataFrame()\n",
    "with ThreadPoolExecutor(max_workers=10) as executor:\n",
    "    futures = []\n",
    "    for id in df_sample[\"id\"].unique()[:40]:\n",
    "        futures.append(executor.submit(get_movie_info, id=id))\n",
    "    for future in as_completed(futures):\n",
    "        result = pd.DataFrame(future.result(), index = [\"id\", \"rating\", \"directors\", \"writers\", \"duration\", \"description\"]).T\n",
    "        df_info = pd.concat([df_info, result], axis = 0)"
   ]
  },
  {
   "cell_type": "code",
   "execution_count": 11,
   "metadata": {},
   "outputs": [],
   "source": [
    "df_info.reset_index(drop = True, inplace=True)"
   ]
  },
  {
   "cell_type": "code",
   "execution_count": 15,
   "metadata": {},
   "outputs": [
    {
     "data": {
      "text/html": [
       "<div>\n",
       "<style scoped>\n",
       "    .dataframe tbody tr th:only-of-type {\n",
       "        vertical-align: middle;\n",
       "    }\n",
       "\n",
       "    .dataframe tbody tr th {\n",
       "        vertical-align: top;\n",
       "    }\n",
       "\n",
       "    .dataframe thead th {\n",
       "        text-align: right;\n",
       "    }\n",
       "</style>\n",
       "<table border=\"1\" class=\"dataframe\">\n",
       "  <thead>\n",
       "    <tr style=\"text-align: right;\">\n",
       "      <th></th>\n",
       "      <th>type</th>\n",
       "      <th>year</th>\n",
       "      <th>month</th>\n",
       "      <th>name</th>\n",
       "      <th>id</th>\n",
       "      <th>genre</th>\n",
       "    </tr>\n",
       "  </thead>\n",
       "  <tbody>\n",
       "    <tr>\n",
       "      <th>0</th>\n",
       "      <td>movie</td>\n",
       "      <td>1990</td>\n",
       "      <td>10.0</td>\n",
       "      <td>Jahrgang 45</td>\n",
       "      <td>tt0059325</td>\n",
       "      <td>Drama</td>\n",
       "    </tr>\n",
       "    <tr>\n",
       "      <th>1</th>\n",
       "      <td>movie</td>\n",
       "      <td>1990</td>\n",
       "      <td>10.0</td>\n",
       "      <td>Wenn du groß bist, lieber Adam</td>\n",
       "      <td>tt0059900</td>\n",
       "      <td>Drama</td>\n",
       "    </tr>\n",
       "    <tr>\n",
       "      <th>2</th>\n",
       "      <td>movie</td>\n",
       "      <td>1990</td>\n",
       "      <td>10.0</td>\n",
       "      <td>Vojtech, receny sirotek</td>\n",
       "      <td>tt0065188</td>\n",
       "      <td>Drama</td>\n",
       "    </tr>\n",
       "    <tr>\n",
       "      <th>3</th>\n",
       "      <td>movie</td>\n",
       "      <td>1990</td>\n",
       "      <td>8.0</td>\n",
       "      <td>Domo Arigato</td>\n",
       "      <td>tt0068494</td>\n",
       "      <td>Drama</td>\n",
       "    </tr>\n",
       "    <tr>\n",
       "      <th>4</th>\n",
       "      <td>movie</td>\n",
       "      <td>1990</td>\n",
       "      <td>3.0</td>\n",
       "      <td>Spy Story</td>\n",
       "      <td>tt0075259</td>\n",
       "      <td>Drama</td>\n",
       "    </tr>\n",
       "    <tr>\n",
       "      <th>...</th>\n",
       "      <td>...</td>\n",
       "      <td>...</td>\n",
       "      <td>...</td>\n",
       "      <td>...</td>\n",
       "      <td>...</td>\n",
       "      <td>...</td>\n",
       "    </tr>\n",
       "    <tr>\n",
       "      <th>27018</th>\n",
       "      <td>short</td>\n",
       "      <td>2024</td>\n",
       "      <td>2.0</td>\n",
       "      <td>Under the Influence</td>\n",
       "      <td>tt30062866</td>\n",
       "      <td>Thriller</td>\n",
       "    </tr>\n",
       "    <tr>\n",
       "      <th>27019</th>\n",
       "      <td>short</td>\n",
       "      <td>2024</td>\n",
       "      <td>2.0</td>\n",
       "      <td>Poor Ray</td>\n",
       "      <td>tt30097808</td>\n",
       "      <td>Thriller</td>\n",
       "    </tr>\n",
       "    <tr>\n",
       "      <th>27020</th>\n",
       "      <td>short</td>\n",
       "      <td>2024</td>\n",
       "      <td>1.0</td>\n",
       "      <td>Another</td>\n",
       "      <td>tt30101647</td>\n",
       "      <td>Thriller</td>\n",
       "    </tr>\n",
       "    <tr>\n",
       "      <th>27021</th>\n",
       "      <td>short</td>\n",
       "      <td>2024</td>\n",
       "      <td>NaN</td>\n",
       "      <td>Resolute</td>\n",
       "      <td>tt30185836</td>\n",
       "      <td>Thriller</td>\n",
       "    </tr>\n",
       "    <tr>\n",
       "      <th>27022</th>\n",
       "      <td>short</td>\n",
       "      <td>2024</td>\n",
       "      <td>1.0</td>\n",
       "      <td>Psyche</td>\n",
       "      <td>tt30215252</td>\n",
       "      <td>Thriller</td>\n",
       "    </tr>\n",
       "  </tbody>\n",
       "</table>\n",
       "<p>27023 rows × 6 columns</p>\n",
       "</div>"
      ],
      "text/plain": [
       "        type  year  month                            name          id  \\\n",
       "0      movie  1990   10.0                     Jahrgang 45   tt0059325   \n",
       "1      movie  1990   10.0  Wenn du groß bist, lieber Adam   tt0059900   \n",
       "2      movie  1990   10.0         Vojtech, receny sirotek   tt0065188   \n",
       "3      movie  1990    8.0                    Domo Arigato   tt0068494   \n",
       "4      movie  1990    3.0                       Spy Story   tt0075259   \n",
       "...      ...   ...    ...                             ...         ...   \n",
       "27018  short  2024    2.0             Under the Influence  tt30062866   \n",
       "27019  short  2024    2.0                        Poor Ray  tt30097808   \n",
       "27020  short  2024    1.0                         Another  tt30101647   \n",
       "27021  short  2024    NaN                        Resolute  tt30185836   \n",
       "27022  short  2024    1.0                          Psyche  tt30215252   \n",
       "\n",
       "          genre  \n",
       "0         Drama  \n",
       "1         Drama  \n",
       "2         Drama  \n",
       "3         Drama  \n",
       "4         Drama  \n",
       "...         ...  \n",
       "27018  Thriller  \n",
       "27019  Thriller  \n",
       "27020  Thriller  \n",
       "27021  Thriller  \n",
       "27022  Thriller  \n",
       "\n",
       "[27023 rows x 6 columns]"
      ]
     },
     "execution_count": 15,
     "metadata": {},
     "output_type": "execute_result"
    }
   ],
   "source": [
    "df_response"
   ]
  },
  {
   "cell_type": "code",
   "execution_count": 18,
   "metadata": {},
   "outputs": [
    {
     "data": {
      "text/html": [
       "<div>\n",
       "<style scoped>\n",
       "    .dataframe tbody tr th:only-of-type {\n",
       "        vertical-align: middle;\n",
       "    }\n",
       "\n",
       "    .dataframe tbody tr th {\n",
       "        vertical-align: top;\n",
       "    }\n",
       "\n",
       "    .dataframe thead th {\n",
       "        text-align: right;\n",
       "    }\n",
       "</style>\n",
       "<table border=\"1\" class=\"dataframe\">\n",
       "  <thead>\n",
       "    <tr style=\"text-align: right;\">\n",
       "      <th></th>\n",
       "      <th>id</th>\n",
       "      <th>rating</th>\n",
       "      <th>directors</th>\n",
       "      <th>writers</th>\n",
       "      <th>duration</th>\n",
       "      <th>description</th>\n",
       "    </tr>\n",
       "  </thead>\n",
       "  <tbody>\n",
       "    <tr>\n",
       "      <th>0</th>\n",
       "      <td>tt0059900</td>\n",
       "      <td>6.5</td>\n",
       "      <td>[Egon Günther]</td>\n",
       "      <td>[Egon Günther, Helga Schütz]</td>\n",
       "      <td>78</td>\n",
       "      <td>Adam receives a flashlight with special powers...</td>\n",
       "    </tr>\n",
       "    <tr>\n",
       "      <th>1</th>\n",
       "      <td>tt0093210</td>\n",
       "      <td>5.9</td>\n",
       "      <td>[Fernando Durán Rojas]</td>\n",
       "      <td>[Jorge Barragán]</td>\n",
       "      <td>102</td>\n",
       "      <td>A hobo (Julio Alemán) is given the power to kn...</td>\n",
       "    </tr>\n",
       "    <tr>\n",
       "      <th>2</th>\n",
       "      <td>tt0081721</td>\n",
       "      <td>6.2</td>\n",
       "      <td>[Michael Rubbo]</td>\n",
       "      <td>[Michael Rubbo]</td>\n",
       "      <td>100</td>\n",
       "      <td>Jo meets a mysterious art dealer who buys some...</td>\n",
       "    </tr>\n",
       "    <tr>\n",
       "      <th>3</th>\n",
       "      <td>tt0093989</td>\n",
       "      <td>6.4</td>\n",
       "      <td>[Cheh Chang]</td>\n",
       "      <td>[Cheh Chang]</td>\n",
       "      <td>115</td>\n",
       "      <td>The friendship between a thief turned Chinese ...</td>\n",
       "    </tr>\n",
       "    <tr>\n",
       "      <th>4</th>\n",
       "      <td>tt0090665</td>\n",
       "      <td>6.7</td>\n",
       "      <td>[Férid Boughedir]</td>\n",
       "      <td>[Férid Boughedir, Nouri Bouzid, Taoufik Jebali]</td>\n",
       "      <td>98</td>\n",
       "      <td>Noura struggles to reconcile two worlds, Musli...</td>\n",
       "    </tr>\n",
       "  </tbody>\n",
       "</table>\n",
       "</div>"
      ],
      "text/plain": [
       "          id  rating               directors  \\\n",
       "0  tt0059900     6.5          [Egon Günther]   \n",
       "1  tt0093210     5.9  [Fernando Durán Rojas]   \n",
       "2  tt0081721     6.2         [Michael Rubbo]   \n",
       "3  tt0093989     6.4            [Cheh Chang]   \n",
       "4  tt0090665     6.7       [Férid Boughedir]   \n",
       "\n",
       "                                           writers  duration  \\\n",
       "0                     [Egon Günther, Helga Schütz]        78   \n",
       "1                                 [Jorge Barragán]       102   \n",
       "2                                  [Michael Rubbo]       100   \n",
       "3                                     [Cheh Chang]       115   \n",
       "4  [Férid Boughedir, Nouri Bouzid, Taoufik Jebali]        98   \n",
       "\n",
       "                                         description  \n",
       "0  Adam receives a flashlight with special powers...  \n",
       "1  A hobo (Julio Alemán) is given the power to kn...  \n",
       "2  Jo meets a mysterious art dealer who buys some...  \n",
       "3  The friendship between a thief turned Chinese ...  \n",
       "4  Noura struggles to reconcile two worlds, Musli...  "
      ]
     },
     "execution_count": 18,
     "metadata": {},
     "output_type": "execute_result"
    }
   ],
   "source": [
    "df_info[\"duration\"] = df_info[\"duration\"].apply(to_minutes)\n",
    "df_info[\"rating\"] = df_info[\"rating\"].astype(float)\n",
    "\n",
    "df_info.head()"
   ]
  },
  {
   "cell_type": "code",
   "execution_count": 20,
   "metadata": {},
   "outputs": [
    {
     "data": {
      "text/plain": [
       "(30, 6)"
      ]
     },
     "execution_count": 20,
     "metadata": {},
     "output_type": "execute_result"
    }
   ],
   "source": [
    "df_info.shape"
   ]
  }
 ],
 "metadata": {
  "kernelspec": {
   "display_name": "Python 3",
   "language": "python",
   "name": "python3"
  },
  "language_info": {
   "codemirror_mode": {
    "name": "ipython",
    "version": 3
   },
   "file_extension": ".py",
   "mimetype": "text/x-python",
   "name": "python",
   "nbconvert_exporter": "python",
   "pygments_lexer": "ipython3",
   "version": "3.11.9"
  }
 },
 "nbformat": 4,
 "nbformat_minor": 2
}
