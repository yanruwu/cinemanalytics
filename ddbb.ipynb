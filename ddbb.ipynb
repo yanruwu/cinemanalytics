{
 "cells": [
  {
   "cell_type": "markdown",
   "metadata": {},
   "source": [
    "## Database"
   ]
  },
  {
   "cell_type": "code",
   "execution_count": 199,
   "metadata": {},
   "outputs": [
    {
     "name": "stdout",
     "output_type": "stream",
     "text": [
      "The autoreload extension is already loaded. To reload it, use:\n",
      "  %reload_ext autoreload\n"
     ]
    }
   ],
   "source": [
    "import pandas as pd\n",
    "from src.query_funcs import *\n",
    "import re\n",
    "\n",
    "%load_ext autoreload\n",
    "%autoreload 2"
   ]
  },
  {
   "cell_type": "code",
   "execution_count": 171,
   "metadata": {},
   "outputs": [],
   "source": [
    "artist_details = pd.read_csv(\"datos/detalles_artistas.csv\")\n",
    "movie_details = pd.read_csv(\"datos/detalles_peliculas.csv\")\n",
    "artist_movie = pd.read_csv(\"datos/pelicula_artista.csv\")\n",
    "movies = pd.read_csv(\"datos/peliculas.csv\")"
   ]
  },
  {
   "cell_type": "code",
   "execution_count": 172,
   "metadata": {},
   "outputs": [],
   "source": [
    "def separar_premios(x):\n",
    "    try:\n",
    "        wins = re.search(pattern='\\d+\\swin', string=x).group(0)\n",
    "        wins = int(re.sub(\" win\", \"\", wins))\n",
    "    except:\n",
    "        wins = 0\n",
    "    try:\n",
    "        nominations = re.search(pattern='\\d+\\snomination', string=x).group(0)\n",
    "        nominations = int(re.sub(\" nomination\", \"\", nominations))\n",
    "    except:\n",
    "        nominations = 0 \n",
    "    return (wins, nominations)\n",
    "\n",
    "def to_minutes(text):\n",
    "    text = text.replace(\"h\", \":\").replace(\"min\", \"\").replace(\"m\", \"\")\n",
    "    splitted = text.split(\":\")\n",
    "    try:\n",
    "        return int(splitted[0])*60+int(splitted[1])\n",
    "    except:\n",
    "        return int(splitted[0])\n",
    "    \n",
    "def nullify_unknown(x, unknown_str = \"Desconocido\"):\n",
    "    if x != unknown_str:\n",
    "        return x\n",
    "    else:\n",
    "        return None"
   ]
  },
  {
   "cell_type": "code",
   "execution_count": 173,
   "metadata": {},
   "outputs": [],
   "source": [
    "artist_details[\"premios_descomp\"] = artist_details[\"premios\"].apply(separar_premios)"
   ]
  },
  {
   "cell_type": "code",
   "execution_count": 174,
   "metadata": {},
   "outputs": [],
   "source": [
    "artist_details[[\"wins\", \"nominations\"]] = artist_details[\"premios_descomp\"].apply(pd.Series).rename(columns={0 : \"wins\", 1 : \"nominations\"})"
   ]
  },
  {
   "cell_type": "code",
   "execution_count": 175,
   "metadata": {},
   "outputs": [],
   "source": [
    "artist_details.drop(columns=[\"premios\", \"premios_descomp\"], inplace=True)"
   ]
  },
  {
   "cell_type": "code",
   "execution_count": 176,
   "metadata": {},
   "outputs": [],
   "source": [
    "artist_details[\"año_nac\"] = artist_details[\"año_nac\"].apply(lambda x : nullify_unknown(x, 9999))"
   ]
  },
  {
   "cell_type": "code",
   "execution_count": 177,
   "metadata": {},
   "outputs": [
    {
     "data": {
      "text/html": [
       "<div>\n",
       "<style scoped>\n",
       "    .dataframe tbody tr th:only-of-type {\n",
       "        vertical-align: middle;\n",
       "    }\n",
       "\n",
       "    .dataframe tbody tr th {\n",
       "        vertical-align: top;\n",
       "    }\n",
       "\n",
       "    .dataframe thead th {\n",
       "        text-align: right;\n",
       "    }\n",
       "</style>\n",
       "<table border=\"1\" class=\"dataframe\">\n",
       "  <thead>\n",
       "    <tr style=\"text-align: right;\">\n",
       "      <th></th>\n",
       "      <th>actr</th>\n",
       "      <th>año_nac</th>\n",
       "      <th>conocido_por</th>\n",
       "      <th>que_hace</th>\n",
       "      <th>wins</th>\n",
       "      <th>nominations</th>\n",
       "    </tr>\n",
       "  </thead>\n",
       "  <tbody>\n",
       "    <tr>\n",
       "      <th>0</th>\n",
       "      <td>A. Gunaseelan</td>\n",
       "      <td>NaN</td>\n",
       "      <td>'Mandela'</td>\n",
       "      <td>Casting Department, Actress, Casting Director</td>\n",
       "      <td>0</td>\n",
       "      <td>1</td>\n",
       "    </tr>\n",
       "    <tr>\n",
       "      <th>1</th>\n",
       "      <td>A. Michelle Harleston</td>\n",
       "      <td>NaN</td>\n",
       "      <td>'Murder by Numbers', 'The Mark of a Killer', '...</td>\n",
       "      <td>Actor</td>\n",
       "      <td>0</td>\n",
       "      <td>0</td>\n",
       "    </tr>\n",
       "    <tr>\n",
       "      <th>2</th>\n",
       "      <td>A.C. Peterson</td>\n",
       "      <td>NaN</td>\n",
       "      <td>'Narc', 'Shanghai Noon', 'Shooter', 'The Last ...</td>\n",
       "      <td>Actor</td>\n",
       "      <td>0</td>\n",
       "      <td>0</td>\n",
       "    </tr>\n",
       "    <tr>\n",
       "      <th>3</th>\n",
       "      <td>A.V.S. Subramanyam</td>\n",
       "      <td>1957.0</td>\n",
       "      <td>'Roommates', 'Uncle', 'Ori Nee Prema Bangaramk...</td>\n",
       "      <td>Actor, Director, Writer</td>\n",
       "      <td>0</td>\n",
       "      <td>0</td>\n",
       "    </tr>\n",
       "    <tr>\n",
       "      <th>4</th>\n",
       "      <td>Øyvind Øvrebø</td>\n",
       "      <td>NaN</td>\n",
       "      <td>'Tingen, Edderkoppen', 'Demenskoret', 'Kristia...</td>\n",
       "      <td>Actress, Additional Crew</td>\n",
       "      <td>0</td>\n",
       "      <td>0</td>\n",
       "    </tr>\n",
       "  </tbody>\n",
       "</table>\n",
       "</div>"
      ],
      "text/plain": [
       "                    actr  año_nac  \\\n",
       "0          A. Gunaseelan      NaN   \n",
       "1  A. Michelle Harleston      NaN   \n",
       "2          A.C. Peterson      NaN   \n",
       "3     A.V.S. Subramanyam   1957.0   \n",
       "4          Øyvind Øvrebø      NaN   \n",
       "\n",
       "                                        conocido_por  \\\n",
       "0                                          'Mandela'   \n",
       "1  'Murder by Numbers', 'The Mark of a Killer', '...   \n",
       "2  'Narc', 'Shanghai Noon', 'Shooter', 'The Last ...   \n",
       "3  'Roommates', 'Uncle', 'Ori Nee Prema Bangaramk...   \n",
       "4  'Tingen, Edderkoppen', 'Demenskoret', 'Kristia...   \n",
       "\n",
       "                                        que_hace  wins  nominations  \n",
       "0  Casting Department, Actress, Casting Director     0            1  \n",
       "1                                          Actor     0            0  \n",
       "2                                          Actor     0            0  \n",
       "3                        Actor, Director, Writer     0            0  \n",
       "4                       Actress, Additional Crew     0            0  "
      ]
     },
     "execution_count": 177,
     "metadata": {},
     "output_type": "execute_result"
    }
   ],
   "source": [
    "artist_details.head()"
   ]
  },
  {
   "cell_type": "code",
   "execution_count": 178,
   "metadata": {},
   "outputs": [],
   "source": [
    "movies[\"Mes\"] = movies[\"Mes\"].apply(lambda x: nullify_unknown(x, 0))"
   ]
  },
  {
   "cell_type": "code",
   "execution_count": 179,
   "metadata": {},
   "outputs": [
    {
     "data": {
      "text/html": [
       "<div>\n",
       "<style scoped>\n",
       "    .dataframe tbody tr th:only-of-type {\n",
       "        vertical-align: middle;\n",
       "    }\n",
       "\n",
       "    .dataframe tbody tr th {\n",
       "        vertical-align: top;\n",
       "    }\n",
       "\n",
       "    .dataframe thead th {\n",
       "        text-align: right;\n",
       "    }\n",
       "</style>\n",
       "<table border=\"1\" class=\"dataframe\">\n",
       "  <thead>\n",
       "    <tr style=\"text-align: right;\">\n",
       "      <th></th>\n",
       "      <th>Tipo</th>\n",
       "      <th>Titulo</th>\n",
       "      <th>Año</th>\n",
       "      <th>Mes</th>\n",
       "      <th>Id</th>\n",
       "      <th>generos</th>\n",
       "    </tr>\n",
       "  </thead>\n",
       "  <tbody>\n",
       "    <tr>\n",
       "      <th>0</th>\n",
       "      <td>Movie</td>\n",
       "      <td>Las Travesuras de Super Chido</td>\n",
       "      <td>1990</td>\n",
       "      <td>10.0</td>\n",
       "      <td>tt0320656</td>\n",
       "      <td>Action</td>\n",
       "    </tr>\n",
       "    <tr>\n",
       "      <th>1</th>\n",
       "      <td>Movie</td>\n",
       "      <td>Velai Kidaichiruchu</td>\n",
       "      <td>1990</td>\n",
       "      <td>8.0</td>\n",
       "      <td>tt0318803</td>\n",
       "      <td>Action</td>\n",
       "    </tr>\n",
       "    <tr>\n",
       "      <th>2</th>\n",
       "      <td>Movie</td>\n",
       "      <td>Sor Batalla</td>\n",
       "      <td>1990</td>\n",
       "      <td>8.0</td>\n",
       "      <td>tt0320503</td>\n",
       "      <td>Action</td>\n",
       "    </tr>\n",
       "    <tr>\n",
       "      <th>3</th>\n",
       "      <td>Movie</td>\n",
       "      <td>Azaad Desh Ke Gulam</td>\n",
       "      <td>1990</td>\n",
       "      <td>4.0</td>\n",
       "      <td>tt0330019</td>\n",
       "      <td>Action</td>\n",
       "    </tr>\n",
       "    <tr>\n",
       "      <th>4</th>\n",
       "      <td>Movie</td>\n",
       "      <td>Suo ming fei dao</td>\n",
       "      <td>1991</td>\n",
       "      <td>11.0</td>\n",
       "      <td>tt0348147</td>\n",
       "      <td>Action</td>\n",
       "    </tr>\n",
       "  </tbody>\n",
       "</table>\n",
       "</div>"
      ],
      "text/plain": [
       "    Tipo                         Titulo   Año   Mes         Id generos\n",
       "0  Movie  Las Travesuras de Super Chido  1990  10.0  tt0320656  Action\n",
       "1  Movie            Velai Kidaichiruchu  1990   8.0  tt0318803  Action\n",
       "2  Movie                    Sor Batalla  1990   8.0  tt0320503  Action\n",
       "3  Movie            Azaad Desh Ke Gulam  1990   4.0  tt0330019  Action\n",
       "4  Movie               Suo ming fei dao  1991  11.0  tt0348147  Action"
      ]
     },
     "execution_count": 179,
     "metadata": {},
     "output_type": "execute_result"
    }
   ],
   "source": [
    "movies.head()"
   ]
  },
  {
   "cell_type": "code",
   "execution_count": 180,
   "metadata": {},
   "outputs": [],
   "source": [
    "movie_details[\"direc_imbd\"] = movie_details[\"direc_imbd\"].apply(nullify_unknown)\n",
    "movie_details[\"guion_imbd\"] = movie_details[\"guion_imbd\"].apply(nullify_unknown)\n",
    "movie_details[\"argum_imbd\"] = movie_details[\"argum_imbd\"].apply(nullify_unknown)\n",
    "movie_details[\"durac_imbd\"] = movie_details[\"durac_imbd\"].apply(nullify_unknown).apply(lambda x : to_minutes(x) if x else x)"
   ]
  },
  {
   "cell_type": "code",
   "execution_count": 181,
   "metadata": {},
   "outputs": [],
   "source": [
    "movie_details = movie_details.set_index(\"id_pelicula\").reset_index()"
   ]
  },
  {
   "cell_type": "code",
   "execution_count": 286,
   "metadata": {},
   "outputs": [
    {
     "name": "stdout",
     "output_type": "stream",
     "text": [
      "Done!\n"
     ]
    }
   ],
   "source": [
    "query = '''\n",
    "CREATE TABLE if not exists artist_info(\n",
    "        id_artist int primary key,\n",
    "        nombre varchar(100) not null,\n",
    "        birth_date numeric,\n",
    "        conocido_por varchar(300),\n",
    "        roles varchar(120),\n",
    "        wins numeric,\n",
    "        nominations numeric);\n",
    "\n",
    "CREATE TABLE if not exists genres(\n",
    "        id_genre int primary key,\n",
    "        nombre varchar(100) not null\n",
    "        );\n",
    "        \n",
    "\n",
    "CREATE TABLE if not exists movie_details(\n",
    "        id_movie varchar(100) primary key,\n",
    "        nombre varchar(100) not null,\n",
    "        calificacion decimal(10,4),\n",
    "        director varchar(200),\n",
    "        guion varchar(200),\n",
    "        argumento varchar(400),\n",
    "        minutos numeric\n",
    "        );\n",
    "\n",
    "CREATE TABLE if not exists movies(\n",
    "        id_entry int primary key,\n",
    "        tipo varchar(50) not null,\n",
    "        nombre varchar(100) not null,\n",
    "        anio numeric,\n",
    "        mes numeric,\n",
    "        id_movie varchar(100) not null,\n",
    "        id_genre int not null,\n",
    "        foreign key (id_movie)\n",
    "                references movie_details(id_movie)\n",
    "                on delete restrict\n",
    "                on update cascade,\n",
    "        foreign key (id_genre)\n",
    "                references genres(id_genre)\n",
    "                on delete restrict\n",
    "                on update cascade\n",
    "        );\n",
    "\n",
    "CREATE TABLE if not exists artist_movies(\n",
    "        id_entry int primary key,\n",
    "        id_artist int,\n",
    "        id_movie varchar(100) not null,\n",
    "        foreign key (id_artist)\n",
    "                references artist_info(id_artist)\n",
    "                on delete restrict\n",
    "                on update cascade,\n",
    "        foreign key (id_movie)\n",
    "                references movie_details(id_movie)\n",
    "                on delete restrict\n",
    "                on update cascade) \n",
    "        \n",
    "        '''\n",
    "\n",
    "conexion = conectar()\n",
    "query_commit(conexion, query_text=query)"
   ]
  },
  {
   "cell_type": "code",
   "execution_count": 287,
   "metadata": {},
   "outputs": [],
   "source": [
    "genre_dict = dict(enumerate(movies[\"generos\"].unique(), start=1))"
   ]
  },
  {
   "cell_type": "code",
   "execution_count": 288,
   "metadata": {},
   "outputs": [
    {
     "name": "stdout",
     "output_type": "stream",
     "text": [
      "Done!\n"
     ]
    }
   ],
   "source": [
    "conexion = conectar()\n",
    "query_commit_many(conexion, '''insert into genres\n",
    "                                values (%s,%s)''', tuple(genre_dict.items()))"
   ]
  },
  {
   "cell_type": "code",
   "execution_count": 290,
   "metadata": {},
   "outputs": [
    {
     "name": "stdout",
     "output_type": "stream",
     "text": [
      "Done!\n"
     ]
    }
   ],
   "source": [
    "conexion = conectar()\n",
    "query_commit_many(conexion, '''insert into artist_info\n",
    "                                values (%s,%s,%s,%s,%s,%s,%s)''', [tuple(i) for i in (artist_details.reset_index().values)])"
   ]
  },
  {
   "cell_type": "code",
   "execution_count": 292,
   "metadata": {},
   "outputs": [
    {
     "name": "stdout",
     "output_type": "stream",
     "text": [
      "Done!\n"
     ]
    }
   ],
   "source": [
    "conexion = conectar()\n",
    "query_commit_many(conexion, '''insert into movie_details\n",
    "                                values (%s,%s,%s,%s,%s,%s,%s)''', [tuple(i) for i in (movie_details.values)])"
   ]
  },
  {
   "cell_type": "code",
   "execution_count": 296,
   "metadata": {},
   "outputs": [],
   "source": [
    "movies[\"generos\"] = movies[\"generos\"].map({v:k for k,v in genre_dict.items()})"
   ]
  },
  {
   "cell_type": "code",
   "execution_count": 298,
   "metadata": {},
   "outputs": [
    {
     "name": "stdout",
     "output_type": "stream",
     "text": [
      "Done!\n"
     ]
    }
   ],
   "source": [
    "conexion = conectar()\n",
    "query_commit_many(conexion, '''insert into movies\n",
    "                                values (%s,%s,%s,%s,%s,%s,%s)''', [tuple(i) for i in (movies.reset_index().values)])"
   ]
  },
  {
   "cell_type": "code",
   "execution_count": 302,
   "metadata": {},
   "outputs": [
    {
     "data": {
      "text/html": [
       "<div>\n",
       "<style scoped>\n",
       "    .dataframe tbody tr th:only-of-type {\n",
       "        vertical-align: middle;\n",
       "    }\n",
       "\n",
       "    .dataframe tbody tr th {\n",
       "        vertical-align: top;\n",
       "    }\n",
       "\n",
       "    .dataframe thead th {\n",
       "        text-align: right;\n",
       "    }\n",
       "</style>\n",
       "<table border=\"1\" class=\"dataframe\">\n",
       "  <thead>\n",
       "    <tr style=\"text-align: right;\">\n",
       "      <th></th>\n",
       "      <th>Movie ID</th>\n",
       "      <th>Actriz_Actor</th>\n",
       "    </tr>\n",
       "  </thead>\n",
       "  <tbody>\n",
       "    <tr>\n",
       "      <th>0</th>\n",
       "      <td>tt0110660</td>\n",
       "      <td>Tony Ka Fai Leung</td>\n",
       "    </tr>\n",
       "    <tr>\n",
       "      <th>1</th>\n",
       "      <td>tt0110363</td>\n",
       "      <td>Luke Edwards</td>\n",
       "    </tr>\n",
       "    <tr>\n",
       "      <th>2</th>\n",
       "      <td>tt0110397</td>\n",
       "      <td>Jennifer Barker</td>\n",
       "    </tr>\n",
       "    <tr>\n",
       "      <th>3</th>\n",
       "      <td>tt0111045</td>\n",
       "      <td>Miklós Déri</td>\n",
       "    </tr>\n",
       "    <tr>\n",
       "      <th>4</th>\n",
       "      <td>tt0111653</td>\n",
       "      <td>Joe Bays</td>\n",
       "    </tr>\n",
       "    <tr>\n",
       "      <th>...</th>\n",
       "      <td>...</td>\n",
       "      <td>...</td>\n",
       "    </tr>\n",
       "    <tr>\n",
       "      <th>14524</th>\n",
       "      <td>tt27251096</td>\n",
       "      <td>Sin datos</td>\n",
       "    </tr>\n",
       "    <tr>\n",
       "      <th>14525</th>\n",
       "      <td>tt27250288</td>\n",
       "      <td>Sin datos</td>\n",
       "    </tr>\n",
       "    <tr>\n",
       "      <th>14526</th>\n",
       "      <td>tt27250168</td>\n",
       "      <td>Sin datos</td>\n",
       "    </tr>\n",
       "    <tr>\n",
       "      <th>14527</th>\n",
       "      <td>tt27262238</td>\n",
       "      <td>Jacob Schindler</td>\n",
       "    </tr>\n",
       "    <tr>\n",
       "      <th>14528</th>\n",
       "      <td>tt10774576</td>\n",
       "      <td>Sin datos</td>\n",
       "    </tr>\n",
       "  </tbody>\n",
       "</table>\n",
       "<p>14529 rows × 2 columns</p>\n",
       "</div>"
      ],
      "text/plain": [
       "         Movie ID       Actriz_Actor\n",
       "0       tt0110660  Tony Ka Fai Leung\n",
       "1       tt0110363       Luke Edwards\n",
       "2       tt0110397    Jennifer Barker\n",
       "3       tt0111045        Miklós Déri\n",
       "4       tt0111653           Joe Bays\n",
       "...           ...                ...\n",
       "14524  tt27251096          Sin datos\n",
       "14525  tt27250288          Sin datos\n",
       "14526  tt27250168          Sin datos\n",
       "14527  tt27262238    Jacob Schindler\n",
       "14528  tt10774576          Sin datos\n",
       "\n",
       "[14529 rows x 2 columns]"
      ]
     },
     "execution_count": 302,
     "metadata": {},
     "output_type": "execute_result"
    }
   ],
   "source": [
    "artist_movie"
   ]
  },
  {
   "cell_type": "code",
   "execution_count": 300,
   "metadata": {},
   "outputs": [
    {
     "ename": "InvalidTextRepresentation",
     "evalue": "la sintaxis de entrada no es válida para tipo integer: «tt0110660»\nLINE 2:                                 values ('tt0110660','Tony Ka...\n                                                ^\n",
     "output_type": "error",
     "traceback": [
      "\u001b[1;31m---------------------------------------------------------------------------\u001b[0m",
      "\u001b[1;31mInvalidTextRepresentation\u001b[0m                 Traceback (most recent call last)",
      "Cell \u001b[1;32mIn[300], line 2\u001b[0m\n\u001b[0;32m      1\u001b[0m conexion \u001b[38;5;241m=\u001b[39m conectar()\n\u001b[1;32m----> 2\u001b[0m \u001b[43mquery_commit_many\u001b[49m\u001b[43m(\u001b[49m\u001b[43mconexion\u001b[49m\u001b[43m,\u001b[49m\u001b[43m \u001b[49m\u001b[38;5;124;43m'''\u001b[39;49m\u001b[38;5;124;43minsert into artist_movies\u001b[39;49m\n\u001b[0;32m      3\u001b[0m \u001b[38;5;124;43m                                values (\u001b[39;49m\u001b[38;5;132;43;01m%s\u001b[39;49;00m\u001b[38;5;124;43m,\u001b[39;49m\u001b[38;5;132;43;01m%s\u001b[39;49;00m\u001b[38;5;124;43m)\u001b[39;49m\u001b[38;5;124;43m'''\u001b[39;49m\u001b[43m,\u001b[49m\u001b[43m \u001b[49m\u001b[43m[\u001b[49m\u001b[38;5;28;43mtuple\u001b[39;49m\u001b[43m(\u001b[49m\u001b[43mi\u001b[49m\u001b[43m)\u001b[49m\u001b[43m \u001b[49m\u001b[38;5;28;43;01mfor\u001b[39;49;00m\u001b[43m \u001b[49m\u001b[43mi\u001b[49m\u001b[43m \u001b[49m\u001b[38;5;129;43;01min\u001b[39;49;00m\u001b[43m \u001b[49m\u001b[43m(\u001b[49m\u001b[43martist_movie\u001b[49m\u001b[38;5;241;43m.\u001b[39;49m\u001b[43mvalues\u001b[49m\u001b[43m)\u001b[49m\u001b[43m]\u001b[49m\u001b[43m)\u001b[49m\n",
      "File \u001b[1;32mc:\\Users\\yanru\\OneDrive\\Documentos\\Hackio\\Hackio Bootcamp\\Retos\\Prueba-tecnica\\src\\query_funcs.py:102\u001b[0m, in \u001b[0;36mquery_commit_many\u001b[1;34m(connection, query_text, *valores)\u001b[0m\n\u001b[0;32m     87\u001b[0m \u001b[38;5;250m\u001b[39m\u001b[38;5;124;03m\"\"\"\u001b[39;00m\n\u001b[0;32m     88\u001b[0m \u001b[38;5;124;03mEjecuta una consulta SQL que modifica la base de datos utilizando múltiples valores (INSERT).\u001b[39;00m\n\u001b[0;32m     89\u001b[0m \n\u001b[1;32m   (...)\u001b[0m\n\u001b[0;32m     99\u001b[0m \u001b[38;5;124;03m    Exception: Si ocurre un error al ejecutar la consulta.\u001b[39;00m\n\u001b[0;32m    100\u001b[0m \u001b[38;5;124;03m\"\"\"\u001b[39;00m\n\u001b[0;32m    101\u001b[0m cursor \u001b[38;5;241m=\u001b[39m connection\u001b[38;5;241m.\u001b[39mcursor()\n\u001b[1;32m--> 102\u001b[0m \u001b[43mcursor\u001b[49m\u001b[38;5;241;43m.\u001b[39;49m\u001b[43mexecutemany\u001b[49m\u001b[43m(\u001b[49m\u001b[43mquery_text\u001b[49m\u001b[43m,\u001b[49m\u001b[43m \u001b[49m\u001b[38;5;241;43m*\u001b[39;49m\u001b[43mvalores\u001b[49m\u001b[43m)\u001b[49m\n\u001b[0;32m    103\u001b[0m connection\u001b[38;5;241m.\u001b[39mcommit()\n\u001b[0;32m    104\u001b[0m cursor\u001b[38;5;241m.\u001b[39mclose()\n",
      "\u001b[1;31mInvalidTextRepresentation\u001b[0m: la sintaxis de entrada no es válida para tipo integer: «tt0110660»\nLINE 2:                                 values ('tt0110660','Tony Ka...\n                                                ^\n"
     ]
    }
   ],
   "source": [
    "conexion = conectar()\n",
    "query_commit_many(conexion, '''insert into artist_movies\n",
    "                                values (%s,%s)''', [tuple(i[1], i[0]) for i in (artist_movie.values)])"
   ]
  }
 ],
 "metadata": {
  "kernelspec": {
   "display_name": "Python 3",
   "language": "python",
   "name": "python3"
  },
  "language_info": {
   "codemirror_mode": {
    "name": "ipython",
    "version": 3
   },
   "file_extension": ".py",
   "mimetype": "text/x-python",
   "name": "python",
   "nbconvert_exporter": "python",
   "pygments_lexer": "ipython3",
   "version": "3.11.9"
  }
 },
 "nbformat": 4,
 "nbformat_minor": 2
}
